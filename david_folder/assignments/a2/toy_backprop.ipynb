{
 "cells": [
  {
   "cell_type": "markdown",
   "metadata": {},
   "source": [
    "### toy example of local gradients & impact of inputs on output\n",
    "\n",
    "I liked his toy example for passing in values and understanding how a single input impacts final results. \n",
    "\n",
    "![title](img/bp_toyt.PNG)\n",
    "\n",
    "Functions: \n",
    "- a = x + y\n",
    "- b = max(y,z)\n",
    "- f = a * b"
   ]
  },
  {
   "cell_type": "code",
   "execution_count": 55,
   "metadata": {},
   "outputs": [],
   "source": [
    "class toy_bp():\n",
    "    \n",
    "    def __init__(self,x,y,z):\n",
    "        \n",
    "        # values we pass \n",
    "        self.x = x\n",
    "        self.y = y\n",
    "        self.z = z\n",
    "    \n",
    "    def forward_pass(self):\n",
    "        \n",
    "        self.a = self.x + self.y\n",
    "        self.b = max(self.y, self.z)\n",
    "        self.f = self.a * self.b\n",
    "        \n",
    "        print(f\"The answer is {self.f}\")\n",
    "        \n",
    "    def back_pass(self):\n",
    "        \n",
    "        # passing the error signal back, step by step\n",
    "        \n",
    "        # f w.r.t a:\n",
    "        # look at the impact of loss on f with respect to a, which is just f = a * b\n",
    "        self.fwrta = self.b\n",
    "        \n",
    "        # f w.r.t b\n",
    "        self.fwrtb = self.a\n",
    "        \n",
    "        # moving back further: we pass back our upstream error to start understanding impact of our inputs: \n",
    "        \n",
    "        # f w.r.t x = f w.r.t a * a w.r.t x\n",
    "        # our upstream error is just f w.r.t a, which we then multiply by the local gradient of a w.r.t x\n",
    "        self.fwrtx = self.fwrta * 1\n",
    "        \n",
    "        # f w.r.t y = f w.r.t a * a w.r.t y + f w.r.t b * b w.r.t y\n",
    "        self.fwrty = self.fwrta * 1 + self.fwrtb * 1\n",
    "        \n",
    "        # f w.r.t z = f w.r.t b * b w.r.t z\n",
    "        # note: in this example z > y, so this is what we get....should have if-else logic, but lazy sundays!\n",
    "        self.fwrtz = self.fwrtb * 0"
   ]
  },
  {
   "cell_type": "code",
   "execution_count": 61,
   "metadata": {},
   "outputs": [],
   "source": [
    "# check example\n",
    "example = toy_bp(x=1,y=2,z=0)"
   ]
  },
  {
   "cell_type": "code",
   "execution_count": 62,
   "metadata": {},
   "outputs": [
    {
     "name": "stdout",
     "output_type": "stream",
     "text": [
      "The answer is 6\n"
     ]
    }
   ],
   "source": [
    "# we know we should get a value of 6\n",
    "example.forward_pass()"
   ]
  },
  {
   "cell_type": "code",
   "execution_count": 63,
   "metadata": {},
   "outputs": [],
   "source": [
    "# run our backpass and look at imapct\n",
    "example.back_pass()"
   ]
  },
  {
   "cell_type": "code",
   "execution_count": 64,
   "metadata": {},
   "outputs": [
    {
     "name": "stdout",
     "output_type": "stream",
     "text": [
      "Impact of X on F is 2\n",
      "Impact of Y on F is 5\n",
      "Impact of Z on F is 0\n"
     ]
    }
   ],
   "source": [
    "# how much does tweaking each of these impact f? \n",
    "print(f\"Impact of X on F is {example.fwrtx}\")\n",
    "print(f\"Impact of Y on F is {example.fwrty}\")\n",
    "print(f\"Impact of Z on F is {example.fwrtz}\")"
   ]
  },
  {
   "cell_type": "markdown",
   "metadata": {},
   "source": [
    "What does this mean? \n",
    "\n",
    "- If we increase X by 1 we would expect the output F to increase by 2"
   ]
  },
  {
   "cell_type": "code",
   "execution_count": 66,
   "metadata": {},
   "outputs": [
    {
     "name": "stdout",
     "output_type": "stream",
     "text": [
      "The answer is 8\n"
     ]
    }
   ],
   "source": [
    "# check example\n",
    "example = toy_bp(x=2,y=2,z=0)\n",
    "\n",
    "# run forward pass:\n",
    "example.forward_pass()"
   ]
  },
  {
   "cell_type": "markdown",
   "metadata": {},
   "source": [
    "We can start to interpret the impact of multiple shifts:\n",
    "    \n",
    "- X increase by .1, and Y increase by .1\n",
    "- Should we roughtly (2 x .1) + (5 x .1) = .7 increase, or final F = 6.7"
   ]
  },
  {
   "cell_type": "code",
   "execution_count": 71,
   "metadata": {},
   "outputs": [
    {
     "name": "stdout",
     "output_type": "stream",
     "text": [
      "The answer is 6.720000000000001\n"
     ]
    }
   ],
   "source": [
    "# check example\n",
    "example = toy_bp(x=1.1,y=2.1,z=0)\n",
    "\n",
    "# run forward pass:\n",
    "example.forward_pass()"
   ]
  },
  {
   "cell_type": "code",
   "execution_count": null,
   "metadata": {},
   "outputs": [],
   "source": []
  }
 ],
 "metadata": {
  "kernelspec": {
   "display_name": "nlp",
   "language": "python",
   "name": "nlp"
  },
  "language_info": {
   "codemirror_mode": {
    "name": "ipython",
    "version": 3
   },
   "file_extension": ".py",
   "mimetype": "text/x-python",
   "name": "python",
   "nbconvert_exporter": "python",
   "pygments_lexer": "ipython3",
   "version": "3.6.8"
  }
 },
 "nbformat": 4,
 "nbformat_minor": 4
}
